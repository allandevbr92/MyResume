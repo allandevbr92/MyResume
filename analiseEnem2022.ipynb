{
  "nbformat": 4,
  "nbformat_minor": 0,
  "metadata": {
    "colab": {
      "provenance": [],
      "mount_file_id": "1VAC9yuyLkBwHP2TpzXVo8mIYW_u5T3QK",
      "authorship_tag": "ABX9TyMJN5rfEYbg8OoQa4K1fGvL",
      "include_colab_link": true
    },
    "kernelspec": {
      "name": "python3",
      "display_name": "Python 3"
    },
    "language_info": {
      "name": "python"
    }
  },
  "cells": [
    {
      "cell_type": "markdown",
      "metadata": {
        "id": "view-in-github",
        "colab_type": "text"
      },
      "source": [
        "<a href=\"https://colab.research.google.com/github/allandevbr92/MyResume/blob/master/analiseEnem2022.ipynb\" target=\"_parent\"><img src=\"https://colab.research.google.com/assets/colab-badge.svg\" alt=\"Open In Colab\"/></a>"
      ]
    },
    {
      "cell_type": "code",
      "source": [
        "import pandas as pd"
      ],
      "metadata": {
        "id": "L1WcdbTP7YOB"
      },
      "execution_count": 3,
      "outputs": []
    },
    {
      "cell_type": "code",
      "execution_count": 4,
      "metadata": {
        "id": "ek7m8UnD6b2p"
      },
      "outputs": [],
      "source": [
        "df = pd.read_csv('/content/drive/MyDrive/Enem2022/MICRODADOS_ENEM_2022.csv', encoding='ISO-8859-1', delimiter=';')"
      ]
    },
    {
      "cell_type": "markdown",
      "source": [
        "# Nota Média em Redação e Geral - Masculino X Feminino"
      ],
      "metadata": {
        "id": "fzVrzSz3Eq-3"
      }
    },
    {
      "cell_type": "code",
      "source": [
        "import pandas as pd\n",
        "import matplotlib.pyplot as plt\n",
        "\n",
        "# Supondo que você já tenha carregado os dados em um dataframe chamado 'df'\n",
        "\n",
        "# Calculando as médias de redação e médias gerais por sexo\n",
        "media_redacao = df.groupby('TP_SEXO')['NU_NOTA_REDACAO'].mean()\n",
        "media_geral = df.groupby('TP_SEXO')[['NU_NOTA_CN', 'NU_NOTA_CH', 'NU_NOTA_LC', 'NU_NOTA_MT']].mean().mean(axis=1)\n",
        "\n",
        "# Criando o gráfico de barras\n",
        "fig, ax = plt.subplots(figsize=(8, 6))\n",
        "x = range(len(media_redacao))\n",
        "bar_width = 0.35\n",
        "\n",
        "# Médias de Redação\n",
        "rects1 = ax.bar(x, media_redacao, bar_width, label='Média de Redação')\n",
        "# Médias Gerais\n",
        "rects2 = ax.bar([i + bar_width for i in x], media_geral, bar_width, label='Média Geral')\n",
        "\n",
        "# Definindo os rótulos dos eixos x e y\n",
        "ax.set_xlabel('Sexo')\n",
        "ax.set_ylabel('Média')\n",
        "ax.set_xticks([i + bar_width/2 for i in x])\n",
        "ax.set_xticklabels(media_redacao.index)\n",
        "\n",
        "# Adicionando uma legenda\n",
        "ax.legend()\n",
        "\n",
        "# Exibindo o gráfico\n",
        "plt.show()\n",
        "\n",
        "# Filtrando apenas os candidatos do sexo masculino\n",
        "masculino = df[df['TP_SEXO'] == 'M']\n",
        "\n",
        "# Calculando a média da nota de redação para o sexo masculino\n",
        "media_redacao_masculino = masculino['NU_NOTA_REDACAO'].mean()\n",
        "\n",
        "# Calculando a média geral para o sexo masculino\n",
        "media_geral_masculino = masculino[['NU_NOTA_CN', 'NU_NOTA_CH', 'NU_NOTA_LC', 'NU_NOTA_MT']].mean().mean()\n",
        "\n",
        "# Filtrando apenas os candidatos do sexo feminino\n",
        "feminino = df[df['TP_SEXO'] == 'F']\n",
        "\n",
        "# Calculando a média da nota de redação para o sexo feminino\n",
        "media_redacao_feminino = feminino['NU_NOTA_REDACAO'].mean()\n",
        "\n",
        "# Calculando a média geral para o sexo feminino\n",
        "media_geral_feminino = feminino[['NU_NOTA_CN', 'NU_NOTA_CH', 'NU_NOTA_LC', 'NU_NOTA_MT']].mean().mean()\n",
        "\n",
        "# Imprimindo os resultados\n",
        "print(\"Média de redação - Masculino:\", media_redacao_masculino)\n",
        "print(\"Média de redação - Feminino:\", media_redacao_feminino)\n",
        "print(\"Média geral - Masculino:\", media_geral_masculino)\n",
        "print(\"Média geral - Feminino:\", media_geral_feminino)"
      ],
      "metadata": {
        "colab": {
          "base_uri": "https://localhost:8080/",
          "height": 611
        },
        "id": "2RzPuRgA-pLF",
        "outputId": "357b6631-af32-4f7e-8477-dd9456c64668"
      },
      "execution_count": 8,
      "outputs": [
        {
          "output_type": "display_data",
          "data": {
            "text/plain": [
              "<Figure size 800x600 with 1 Axes>"
            ],
            "image/png": "[encoded data removed]"
          },
          "metadata": {}
        },
        {
          "output_type": "stream",
          "name": "stdout",
          "text": [
            "Média de redação - Masculino: 601.8925326778389\n",
            "Média de redação - Feminino: 628.9229186627261\n",
            "Média geral - Masculino: 531.7650208381059\n",
            "Média geral - Feminino: 513.7115433188579\n"
          ]
        }
      ]
    }
  ]
}